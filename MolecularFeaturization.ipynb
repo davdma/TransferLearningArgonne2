{
 "cells": [
  {
   "cell_type": "code",
   "execution_count": 24,
   "id": "4b989e3a",
   "metadata": {},
   "outputs": [],
   "source": [
    "import pandas as pd\n",
    "import numpy as np\n",
    "import seaborn as sns\n",
    "from rdkit import Chem\n",
    "from rdkit.Chem import AllChem\n",
    "from mordred import Calculator, descriptors"
   ]
  },
  {
   "cell_type": "code",
   "execution_count": 25,
   "id": "72086773",
   "metadata": {},
   "outputs": [],
   "source": [
    "def count_cf_bonds(mol):\n",
    "    abstract_cf = Chem.MolFromSmarts('C~F')\n",
    "    cf_bonds = mol.GetSubstructMatches(abstract_cf)\n",
    "    return len(cf_bonds)\n",
    "\n",
    "def is_in_dataset(csmiles, dataframe=bcfgen):\n",
    "    if csmiles is None:\n",
    "        return False\n",
    "    else:\n",
    "        return csmiles in dataframe['cSMILES'].values\n",
    "    # try except\n",
    "#     csmiles = Chem.MolToSmiles(Chem.MolFromSmiles(smiles))\n",
    "#     if csmiles is None:\n",
    "#         print('Failed to construct mol from SMILES:', smiles)\n",
    "#         return False\n",
    "#     else:\n",
    "#         return csmiles in dataframe['cSMILES'].values\n",
    "    \n",
    "def expand_dataset(expanded, dataframe):\n",
    "    expanded['is_in_dataset'] = expanded['cSMILES'].map(is_in_dataset)\n",
    "    print('Redundant Compounds:', (expanded.is_in_dataset.values == True).sum())\n",
    "    print('Novel Compounds:', (expanded.is_in_dataset.values == False).sum())\n",
    "    \n",
    "    return expanded[expanded['is_in_dataset'] == False].reset_index(drop=True)\n",
    "    \n",
    "def canonicalize(smiles):\n",
    "    mol = Chem.MolFromSmiles(smiles)\n",
    "    if mol is None:\n",
    "        return None\n",
    "    else:\n",
    "        return Chem.MolToSmiles(mol)"
   ]
  },
  {
   "cell_type": "code",
   "execution_count": 26,
   "id": "0300d6be",
   "metadata": {},
   "outputs": [],
   "source": [
    "# this data processing script allows incorporation of new acquired data through bcfexpanded\n",
    "# index_col to avoid importing index as independent column\n",
    "bcfgen = pd.read_csv('data/dataprocessing/bcfgeneralcommon.csv', index_col=0)\n",
    "bcfpfas = pd.read_csv('data/dataprocessing/bcfpfas.csv', index_col=0)\n",
    "bcfexpanded = pd.read_excel('Expanded_BCF.xlsx')\n",
    "unlabeledpfas = pd.read_csv('data/dataprocessing/unlabeled_pfas.csv', index_col=0)"
   ]
  },
  {
   "cell_type": "code",
   "execution_count": 27,
   "id": "9155320c",
   "metadata": {},
   "outputs": [],
   "source": [
    "# Canonicalize SMILES and check for duplicates\n",
    "bcfgen['cSMILES'] = bcfgen.SMILES.apply(canonicalize)\n",
    "bcfpfas['cSMILES'] = bcfpfas.SMILES.apply(canonicalize)\n",
    "bcfexpanded['cSMILES'] = bcfexpanded.SMILES.apply(canonicalize)\n",
    "\n",
    "# Delete duplicate canonical SMILES\n",
    "bcfgen.drop_duplicates(subset=['cSMILES'], inplace=True, ignore_index=True)\n",
    "bcfpfas.drop_duplicates(subset=['cSMILES'], inplace=True, ignore_index=True)\n",
    "bcfexpanded.drop_duplicates(subset=['cSMILES'], inplace=True, ignore_index=True)"
   ]
  },
  {
   "cell_type": "code",
   "execution_count": 29,
   "id": "9525d757",
   "metadata": {},
   "outputs": [
    {
     "name": "stdout",
     "output_type": "stream",
     "text": [
      "Redundant Compounds: 307\n",
      "Novel Compounds: 100\n"
     ]
    }
   ],
   "source": [
    "# expand bcfgen with additional datapoints collected from pubchem\n",
    "novel = expand_dataset(bcfexpanded, bcfgen)\n",
    "\n",
    "# convert to logBCF and only keep CAS, cSMILES and logBCF\n",
    "# append to the original nonpfas dataset\n",
    "# novel['cSMILES'] = novel.SMILES.apply(canonicalize)\n",
    "novel['logBCF'] = np.log10(novel['BCF (L/kg)'])\n",
    "bcfnew = novel[['CAS', 'cSMILES', 'logBCF']]\n",
    "\n",
    "# rid any duplicate cSMILES\n",
    "# bcfnew.drop_duplicates(subset=['cSMILES'], inplace=True, ignore_index=True)\n",
    "\n",
    "# add to bcfgen\n",
    "bcfgenplus = pd.concat([bcfgen, bcfnew])"
   ]
  },
  {
   "cell_type": "code",
   "execution_count": 30,
   "id": "339c69d4",
   "metadata": {},
   "outputs": [],
   "source": [
    "# remove pfas intersection in bcfgen dataset (10 datapoints)\n",
    "doubles = pd.merge(bcfgenplus, bcfpfas, how='inner', on=['cSMILES'])\n",
    "bcfgenplus = bcfgenplus[~bcfgenplus['cSMILES'].isin(doubles['cSMILES'])].reset_index(drop=True)\n",
    "\n",
    "# label as pfas or non-pfas\n",
    "bcfgenplus['Category'] = 0 # non-pfas label\n",
    "bcfpfas['Category'] = 2 # pfas"
   ]
  },
  {
   "cell_type": "code",
   "execution_count": 31,
   "id": "64e69b9a",
   "metadata": {},
   "outputs": [
    {
     "data": {
      "text/html": [
       "<div>\n",
       "<style scoped>\n",
       "    .dataframe tbody tr th:only-of-type {\n",
       "        vertical-align: middle;\n",
       "    }\n",
       "\n",
       "    .dataframe tbody tr th {\n",
       "        vertical-align: top;\n",
       "    }\n",
       "\n",
       "    .dataframe thead th {\n",
       "        text-align: right;\n",
       "    }\n",
       "</style>\n",
       "<table border=\"1\" class=\"dataframe\">\n",
       "  <thead>\n",
       "    <tr style=\"text-align: right;\">\n",
       "      <th></th>\n",
       "      <th>CAS</th>\n",
       "      <th>logBCF</th>\n",
       "      <th>Dataset</th>\n",
       "      <th>SMILES</th>\n",
       "      <th>cSMILES</th>\n",
       "      <th>Category</th>\n",
       "      <th>Chemical</th>\n",
       "      <th>rd_mol</th>\n",
       "    </tr>\n",
       "  </thead>\n",
       "  <tbody>\n",
       "    <tr>\n",
       "      <th>0</th>\n",
       "      <td>2691-41-0</td>\n",
       "      <td>-0.300000</td>\n",
       "      <td>uci</td>\n",
       "      <td>O=[N+]([O-])N1CN([N+](=O)[O-])CN([N+](=O)[O-])...</td>\n",
       "      <td>O=[N+]([O-])N1CN([N+](=O)[O-])CN([N+](=O)[O-])...</td>\n",
       "      <td>0</td>\n",
       "      <td>NaN</td>\n",
       "      <td>&lt;rdkit.Chem.rdchem.Mol object at 0x00000281BEA...</td>\n",
       "    </tr>\n",
       "    <tr>\n",
       "      <th>1</th>\n",
       "      <td>541-73-1</td>\n",
       "      <td>2.440000</td>\n",
       "      <td>uci</td>\n",
       "      <td>Clc1cc(ccc1)Cl</td>\n",
       "      <td>Clc1cccc(Cl)c1</td>\n",
       "      <td>0</td>\n",
       "      <td>NaN</td>\n",
       "      <td>&lt;rdkit.Chem.rdchem.Mol object at 0x00000281BEA...</td>\n",
       "    </tr>\n",
       "    <tr>\n",
       "      <th>2</th>\n",
       "      <td>55219-65-3</td>\n",
       "      <td>1.320000</td>\n",
       "      <td>uci</td>\n",
       "      <td>OC(C(Oc1ccc(cc1)Cl)n2ncnc2)C(C)(C)C</td>\n",
       "      <td>CC(C)(C)C(O)C(Oc1ccc(Cl)cc1)n1cncn1</td>\n",
       "      <td>0</td>\n",
       "      <td>NaN</td>\n",
       "      <td>&lt;rdkit.Chem.rdchem.Mol object at 0x00000281BEA...</td>\n",
       "    </tr>\n",
       "    <tr>\n",
       "      <th>3</th>\n",
       "      <td>55179-31-2/70585-36-3</td>\n",
       "      <td>2.310000</td>\n",
       "      <td>uci</td>\n",
       "      <td>OC(C(Oc1ccc(cc1)c2ccccc2)n3ncnc3)C(C)(C)C</td>\n",
       "      <td>CC(C)(C)C(O)C(Oc1ccc(-c2ccccc2)cc1)n1cncn1</td>\n",
       "      <td>0</td>\n",
       "      <td>NaN</td>\n",
       "      <td>&lt;rdkit.Chem.rdchem.Mol object at 0x00000281BEA...</td>\n",
       "    </tr>\n",
       "    <tr>\n",
       "      <th>4</th>\n",
       "      <td>5510-99-6</td>\n",
       "      <td>2.470000</td>\n",
       "      <td>uci</td>\n",
       "      <td>Oc1c(cccc1C(CC)C)C(CC)C</td>\n",
       "      <td>CCC(C)c1cccc(C(C)CC)c1O</td>\n",
       "      <td>0</td>\n",
       "      <td>NaN</td>\n",
       "      <td>&lt;rdkit.Chem.rdchem.Mol object at 0x00000281BEA...</td>\n",
       "    </tr>\n",
       "    <tr>\n",
       "      <th>...</th>\n",
       "      <td>...</td>\n",
       "      <td>...</td>\n",
       "      <td>...</td>\n",
       "      <td>...</td>\n",
       "      <td>...</td>\n",
       "      <td>...</td>\n",
       "      <td>...</td>\n",
       "      <td>...</td>\n",
       "    </tr>\n",
       "    <tr>\n",
       "      <th>1210</th>\n",
       "      <td>335-76-2</td>\n",
       "      <td>3.889259</td>\n",
       "      <td>itrc</td>\n",
       "      <td>OC(=O)C(F)(F)C(F)(F)C(F)(F)C(F)(F)C(F)(F)C(F)(...</td>\n",
       "      <td>O=C(O)C(F)(F)C(F)(F)C(F)(F)C(F)(F)C(F)(F)C(F)(...</td>\n",
       "      <td>2</td>\n",
       "      <td>PFDA</td>\n",
       "      <td>&lt;rdkit.Chem.rdchem.Mol object at 0x00000281BE6...</td>\n",
       "    </tr>\n",
       "    <tr>\n",
       "      <th>1211</th>\n",
       "      <td>375-22-4</td>\n",
       "      <td>1.184123</td>\n",
       "      <td>itrc</td>\n",
       "      <td>OC(=O)C(F)(F)C(F)(F)C(F)(F)F</td>\n",
       "      <td>O=C(O)C(F)(F)C(F)(F)C(F)(F)F</td>\n",
       "      <td>2</td>\n",
       "      <td>PFBA</td>\n",
       "      <td>&lt;rdkit.Chem.rdchem.Mol object at 0x00000281BE6...</td>\n",
       "    </tr>\n",
       "    <tr>\n",
       "      <th>1212</th>\n",
       "      <td>72629-94-8</td>\n",
       "      <td>4.446706</td>\n",
       "      <td>itrc</td>\n",
       "      <td>OC(=O)C(F)(F)C(F)(F)C(F)(F)C(F)(F)C(F)(F)C(F)(...</td>\n",
       "      <td>O=C(O)C(F)(F)C(F)(F)C(F)(F)C(F)(F)C(F)(F)C(F)(...</td>\n",
       "      <td>2</td>\n",
       "      <td>PFTrDA</td>\n",
       "      <td>&lt;rdkit.Chem.rdchem.Mol object at 0x00000281BE6...</td>\n",
       "    </tr>\n",
       "    <tr>\n",
       "      <th>1213</th>\n",
       "      <td>307-55-1</td>\n",
       "      <td>4.000000</td>\n",
       "      <td>itrc</td>\n",
       "      <td>OC(=O)C(F)(F)C(F)(F)C(F)(F)C(F)(F)C(F)(F)C(F)(...</td>\n",
       "      <td>O=C(O)C(F)(F)C(F)(F)C(F)(F)C(F)(F)C(F)(F)C(F)(...</td>\n",
       "      <td>2</td>\n",
       "      <td>PFDoDA</td>\n",
       "      <td>&lt;rdkit.Chem.rdchem.Mol object at 0x00000281BE6...</td>\n",
       "    </tr>\n",
       "    <tr>\n",
       "      <th>1214</th>\n",
       "      <td>2058-94-8</td>\n",
       "      <td>3.780000</td>\n",
       "      <td>itrc</td>\n",
       "      <td>OC(=O)C(F)(F)C(F)(F)C(F)(F)C(F)(F)C(F)(F)C(F)(...</td>\n",
       "      <td>O=C(O)C(F)(F)C(F)(F)C(F)(F)C(F)(F)C(F)(F)C(F)(...</td>\n",
       "      <td>2</td>\n",
       "      <td>PFUnDA</td>\n",
       "      <td>&lt;rdkit.Chem.rdchem.Mol object at 0x00000281BE6...</td>\n",
       "    </tr>\n",
       "  </tbody>\n",
       "</table>\n",
       "<p>1215 rows × 8 columns</p>\n",
       "</div>"
      ],
      "text/plain": [
       "                        CAS    logBCF Dataset  \\\n",
       "0                 2691-41-0 -0.300000     uci   \n",
       "1                  541-73-1  2.440000     uci   \n",
       "2                55219-65-3  1.320000     uci   \n",
       "3     55179-31-2/70585-36-3  2.310000     uci   \n",
       "4                 5510-99-6  2.470000     uci   \n",
       "...                     ...       ...     ...   \n",
       "1210               335-76-2  3.889259    itrc   \n",
       "1211               375-22-4  1.184123    itrc   \n",
       "1212             72629-94-8  4.446706    itrc   \n",
       "1213               307-55-1  4.000000    itrc   \n",
       "1214              2058-94-8  3.780000    itrc   \n",
       "\n",
       "                                                 SMILES  \\\n",
       "0     O=[N+]([O-])N1CN([N+](=O)[O-])CN([N+](=O)[O-])...   \n",
       "1                                        Clc1cc(ccc1)Cl   \n",
       "2                   OC(C(Oc1ccc(cc1)Cl)n2ncnc2)C(C)(C)C   \n",
       "3             OC(C(Oc1ccc(cc1)c2ccccc2)n3ncnc3)C(C)(C)C   \n",
       "4                               Oc1c(cccc1C(CC)C)C(CC)C   \n",
       "...                                                 ...   \n",
       "1210  OC(=O)C(F)(F)C(F)(F)C(F)(F)C(F)(F)C(F)(F)C(F)(...   \n",
       "1211                       OC(=O)C(F)(F)C(F)(F)C(F)(F)F   \n",
       "1212  OC(=O)C(F)(F)C(F)(F)C(F)(F)C(F)(F)C(F)(F)C(F)(...   \n",
       "1213  OC(=O)C(F)(F)C(F)(F)C(F)(F)C(F)(F)C(F)(F)C(F)(...   \n",
       "1214  OC(=O)C(F)(F)C(F)(F)C(F)(F)C(F)(F)C(F)(F)C(F)(...   \n",
       "\n",
       "                                                cSMILES  Category Chemical  \\\n",
       "0     O=[N+]([O-])N1CN([N+](=O)[O-])CN([N+](=O)[O-])...         0      NaN   \n",
       "1                                        Clc1cccc(Cl)c1         0      NaN   \n",
       "2                   CC(C)(C)C(O)C(Oc1ccc(Cl)cc1)n1cncn1         0      NaN   \n",
       "3            CC(C)(C)C(O)C(Oc1ccc(-c2ccccc2)cc1)n1cncn1         0      NaN   \n",
       "4                               CCC(C)c1cccc(C(C)CC)c1O         0      NaN   \n",
       "...                                                 ...       ...      ...   \n",
       "1210  O=C(O)C(F)(F)C(F)(F)C(F)(F)C(F)(F)C(F)(F)C(F)(...         2     PFDA   \n",
       "1211                       O=C(O)C(F)(F)C(F)(F)C(F)(F)F         2     PFBA   \n",
       "1212  O=C(O)C(F)(F)C(F)(F)C(F)(F)C(F)(F)C(F)(F)C(F)(...         2   PFTrDA   \n",
       "1213  O=C(O)C(F)(F)C(F)(F)C(F)(F)C(F)(F)C(F)(F)C(F)(...         2   PFDoDA   \n",
       "1214  O=C(O)C(F)(F)C(F)(F)C(F)(F)C(F)(F)C(F)(F)C(F)(...         2   PFUnDA   \n",
       "\n",
       "                                                 rd_mol  \n",
       "0     <rdkit.Chem.rdchem.Mol object at 0x00000281BEA...  \n",
       "1     <rdkit.Chem.rdchem.Mol object at 0x00000281BEA...  \n",
       "2     <rdkit.Chem.rdchem.Mol object at 0x00000281BEA...  \n",
       "3     <rdkit.Chem.rdchem.Mol object at 0x00000281BEA...  \n",
       "4     <rdkit.Chem.rdchem.Mol object at 0x00000281BEA...  \n",
       "...                                                 ...  \n",
       "1210  <rdkit.Chem.rdchem.Mol object at 0x00000281BE6...  \n",
       "1211  <rdkit.Chem.rdchem.Mol object at 0x00000281BE6...  \n",
       "1212  <rdkit.Chem.rdchem.Mol object at 0x00000281BE6...  \n",
       "1213  <rdkit.Chem.rdchem.Mol object at 0x00000281BE6...  \n",
       "1214  <rdkit.Chem.rdchem.Mol object at 0x00000281BE6...  \n",
       "\n",
       "[1215 rows x 8 columns]"
      ]
     },
     "execution_count": 31,
     "metadata": {},
     "output_type": "execute_result"
    }
   ],
   "source": [
    "# combine pfas and general dataset\n",
    "bcfcombined = pd.concat([bcfgenplus, bcfpfas]).reset_index(drop=True)\n",
    "bcfcombined['rd_mol'] = bcfcombined.cSMILES.apply(Chem.MolFromSmiles)\n",
    "# bcfcombined[bcfcombined['rd_mol'].isnull()]\n",
    "bcfcombined"
   ]
  },
  {
   "cell_type": "code",
   "execution_count": 32,
   "id": "2f70d20c",
   "metadata": {},
   "outputs": [],
   "source": [
    "unlabeledpfas['rd_mol'] = unlabeledpfas.cSMILES.apply(Chem.MolFromSmiles)\n",
    "# unlabeledpfas['rd_mol'].isnull().sum()"
   ]
  },
  {
   "cell_type": "markdown",
   "id": "3aaef6f4",
   "metadata": {},
   "source": [
    "# Mordred Fingerprints"
   ]
  },
  {
   "cell_type": "code",
   "execution_count": 33,
   "id": "94ac23d0",
   "metadata": {},
   "outputs": [
    {
     "name": "stderr",
     "output_type": "stream",
     "text": [
      "  5%|███▊                                                                            | 57/1215 [00:05<01:32, 12.57it/s]"
     ]
    },
    {
     "name": "stdout",
     "output_type": "stream",
     "text": [
      "C:\\Users\\david\\anaconda3\\envs\\env4pfas\\lib\\site-packages\\numpy\\core\\fromnumeric.py:90: RuntimeWarning: overflow encountered in reduce\n",
      "  return ufunc.reduce(obj, axis, dtype, out, **passkwargs)\n"
     ]
    },
    {
     "name": "stderr",
     "output_type": "stream",
     "text": [
      " 60%|███████████████████████████████████████████████▎                               | 728/1215 [00:28<00:14, 33.16it/s]"
     ]
    },
    {
     "name": "stdout",
     "output_type": "stream",
     "text": [
      "C:\\Users\\david\\anaconda3\\envs\\env4pfas\\lib\\site-packages\\numpy\\core\\fromnumeric.py:90: RuntimeWarning: overflow encountered in reduce\n",
      "  return ufunc.reduce(obj, axis, dtype, out, **passkwargs)\n"
     ]
    },
    {
     "name": "stderr",
     "output_type": "stream",
     "text": [
      " 67%|████████████████████████████████████████████████████▉                          | 814/1215 [00:30<00:09, 41.95it/s]"
     ]
    },
    {
     "name": "stdout",
     "output_type": "stream",
     "text": [
      "C:\\Users\\david\\anaconda3\\envs\\env4pfas\\lib\\site-packages\\numpy\\core\\fromnumeric.py:90: RuntimeWarning: overflow encountered in reduce\n",
      "  return ufunc.reduce(obj, axis, dtype, out, **passkwargs)\n"
     ]
    },
    {
     "name": "stderr",
     "output_type": "stream",
     "text": [
      " 74%|██████████████████████████████████████████████████████████▍                    | 899/1215 [00:33<00:11, 27.13it/s]"
     ]
    },
    {
     "name": "stdout",
     "output_type": "stream",
     "text": [
      "C:\\Users\\david\\anaconda3\\envs\\env4pfas\\lib\\site-packages\\numpy\\core\\fromnumeric.py:90: RuntimeWarning: overflow encountered in reduce\n",
      "  return ufunc.reduce(obj, axis, dtype, out, **passkwargs)\n"
     ]
    },
    {
     "name": "stderr",
     "output_type": "stream",
     "text": [
      " 80%|███████████████████████████████████████████████████████████████▎               | 974/1215 [00:38<00:19, 12.20it/s]"
     ]
    },
    {
     "name": "stdout",
     "output_type": "stream",
     "text": [
      "C:\\Users\\david\\anaconda3\\envs\\env4pfas\\lib\\site-packages\\numpy\\core\\fromnumeric.py:90: RuntimeWarning: overflow encountered in reduce\n",
      "  return ufunc.reduce(obj, axis, dtype, out, **passkwargs)\n"
     ]
    },
    {
     "name": "stderr",
     "output_type": "stream",
     "text": [
      " 86%|███████████████████████████████████████████████████████████████████▏          | 1047/1215 [00:41<00:06, 24.74it/s]"
     ]
    },
    {
     "name": "stdout",
     "output_type": "stream",
     "text": [
      "C:\\Users\\david\\anaconda3\\envs\\env4pfas\\lib\\site-packages\\numpy\\core\\fromnumeric.py:90: RuntimeWarning: overflow encountered in reduce\n",
      "  return ufunc.reduce(obj, axis, dtype, out, **passkwargs)\n"
     ]
    },
    {
     "name": "stderr",
     "output_type": "stream",
     "text": [
      " 92%|███████████████████████████████████████████████████████████████████████▍      | 1112/1215 [00:43<00:03, 30.67it/s]"
     ]
    },
    {
     "name": "stdout",
     "output_type": "stream",
     "text": [
      "C:\\Users\\david\\anaconda3\\envs\\env4pfas\\lib\\site-packages\\numpy\\core\\fromnumeric.py:90: RuntimeWarning: overflow encountered in reduce\n",
      "  return ufunc.reduce(obj, axis, dtype, out, **passkwargs)\n"
     ]
    },
    {
     "name": "stderr",
     "output_type": "stream",
     "text": [
      "100%|██████████████████████████████████████████████████████████████████████████████| 1215/1215 [00:50<00:00, 24.20it/s]\n",
      "  0%|▏                                                                                | 6/3866 [00:04<33:03,  1.95it/s]"
     ]
    },
    {
     "name": "stdout",
     "output_type": "stream",
     "text": [
      "C:\\Users\\david\\anaconda3\\envs\\env4pfas\\lib\\site-packages\\numpy\\core\\fromnumeric.py:90: RuntimeWarning: overflow encountered in reduce\n",
      "  return ufunc.reduce(obj, axis, dtype, out, **passkwargs)\n"
     ]
    },
    {
     "name": "stderr",
     "output_type": "stream",
     "text": [
      "  2%|█▉                                                                              | 93/3866 [00:12<10:35,  5.94it/s]"
     ]
    },
    {
     "name": "stdout",
     "output_type": "stream",
     "text": [
      "C:\\Users\\david\\anaconda3\\envs\\env4pfas\\lib\\site-packages\\numpy\\core\\fromnumeric.py:90: RuntimeWarning: overflow encountered in reduce\n",
      "  return ufunc.reduce(obj, axis, dtype, out, **passkwargs)\n"
     ]
    },
    {
     "name": "stderr",
     "output_type": "stream",
     "text": [
      "  4%|██▉                                                                            | 143/3866 [00:16<11:10,  5.55it/s]"
     ]
    },
    {
     "name": "stdout",
     "output_type": "stream",
     "text": [
      "C:\\Users\\david\\anaconda3\\envs\\env4pfas\\lib\\site-packages\\numpy\\core\\fromnumeric.py:90: RuntimeWarning: overflow encountered in reduce\n",
      "  return ufunc.reduce(obj, axis, dtype, out, **passkwargs)\n",
      "C:\\Users\\david\\anaconda3\\envs\\env4pfas\\lib\\site-packages\\numpy\\core\\fromnumeric.py:90: RuntimeWarning: overflow encountered in reduce\n",
      "  return ufunc.reduce(obj, axis, dtype, out, **passkwargs)\n",
      "C:\\Users\\david\\anaconda3\\envs\\env4pfas\\lib\\site-packages\\numpy\\core\\fromnumeric.py:90: RuntimeWarning: overflow encountered in reduce\n",
      "  return ufunc.reduce(obj, axis, dtype, out, **passkwargs)\n",
      "C:\\Users\\david\\anaconda3\\envs\\env4pfas\\lib\\site-packages\\numpy\\core\\fromnumeric.py:90: RuntimeWarning: overflow encountered in reduce\n",
      "  return ufunc.reduce(obj, axis, dtype, out, **passkwargs)\n"
     ]
    },
    {
     "name": "stderr",
     "output_type": "stream",
     "text": [
      "  9%|███████                                                                        | 344/3866 [00:33<03:43, 15.73it/s]"
     ]
    },
    {
     "name": "stdout",
     "output_type": "stream",
     "text": [
      "C:\\Users\\david\\anaconda3\\envs\\env4pfas\\lib\\site-packages\\numpy\\core\\fromnumeric.py:90: RuntimeWarning: overflow encountered in reduce\n",
      "  return ufunc.reduce(obj, axis, dtype, out, **passkwargs)\n"
     ]
    },
    {
     "name": "stderr",
     "output_type": "stream",
     "text": [
      " 13%|█████████▉                                                                     | 489/3866 [00:46<07:09,  7.86it/s]"
     ]
    },
    {
     "name": "stdout",
     "output_type": "stream",
     "text": [
      "C:\\Users\\david\\anaconda3\\envs\\env4pfas\\lib\\site-packages\\numpy\\core\\fromnumeric.py:90: RuntimeWarning: overflow encountered in reduce\n",
      "  return ufunc.reduce(obj, axis, dtype, out, **passkwargs)\n"
     ]
    },
    {
     "name": "stderr",
     "output_type": "stream",
     "text": [
      "100%|██████████████████████████████████████████████████████████████████████████████| 3866/3866 [05:29<00:00, 11.73it/s]\n"
     ]
    }
   ],
   "source": [
    "mordred = Calculator(descriptors, ignore_3D=False)\n",
    "\n",
    "mordred_descriptors = mordred.pandas(bcfcombined['rd_mol'])"
   ]
  },
  {
   "cell_type": "code",
   "execution_count": 37,
   "id": "8cfd42e5",
   "metadata": {},
   "outputs": [],
   "source": [
    "# There exists strange missing values!\n",
    "# convert all to float to get proper NaNs\n",
    "mordred_descriptors = mordred_descriptors.astype(float)\n",
    "\n",
    "# bcf mordred before additional cleaning steps\n",
    "bcf_mordred = pd.concat([bcfcombined, mordred_descriptors], axis = 1)"
   ]
  },
  {
   "cell_type": "code",
   "execution_count": 35,
   "id": "394ec746",
   "metadata": {},
   "outputs": [
    {
     "data": {
      "text/plain": [
       "Text(0.5, 1.0, 'Descriptor NaN Distribution')"
      ]
     },
     "execution_count": 35,
     "metadata": {},
     "output_type": "execute_result"
    },
    {
     "data": {
      "image/png": "[encoded data removed]",
      "text/plain": [
       "<Figure size 640x480 with 1 Axes>"
      ]
     },
     "metadata": {},
     "output_type": "display_data"
    }
   ],
   "source": [
    "# goal here is to save as many descriptors as possible before doing dropna\n",
    "# filter for columns that only have few nan values caused by select chemicals, then remove those chemicals\n",
    "e = mordred_descriptors.isnull().sum().sort_values(ascending=False)\n",
    "e = e.to_frame(name='NaN Count')\n",
    "\n",
    "# histogram shows that there are ~300+ descriptors that can be retrieved by removing small number of compounds\n",
    "ax = sns.histplot(data=e, x=\"NaN Count\", binwidth=10)\n",
    "ax.set(xlabel = \"Descriptor NaNs\")\n",
    "ax.set_title(\"Descriptor NaN Distribution\")"
   ]
  },
  {
   "cell_type": "code",
   "execution_count": 38,
   "id": "586d40c3",
   "metadata": {},
   "outputs": [
    {
     "name": "stdout",
     "output_type": "stream",
     "text": [
      "There are 49 problematic compounds for Mordred descriptors:\n",
      "[1036, 1038, 1039, 1040, 528, 1042, 1043, 1048, 24, 26, 1052, 1053, 1054, 1055, 1056, 1058, 1059, 1060, 1061, 1062, 1063, 809, 1073, 1080, 321, 578, 582, 583, 584, 1097, 585, 1104, 1112, 1113, 1114, 605, 1136, 1138, 1139, 1141, 1166, 1181, 1182, 934, 936, 973, 471, 234, 1022]\n"
     ]
    }
   ],
   "source": [
    "# function that resolves low level error descriptors\n",
    "def resolve(data, error_table, max_error):\n",
    "    # searches descriptors with less than max_error NaNs\n",
    "    # returns list of compounds by index that are responsible for breaking low level error descriptors\n",
    "    compounds = set()\n",
    "    for i in range(1, max_error):\n",
    "        # get all descriptor names\n",
    "        descriptors = list(error_table[error_table['NaN Count'] == i].index)\n",
    "\n",
    "        # aggregate all compound indices in those descriptors that are problematic\n",
    "        for descriptor in descriptors:\n",
    "            compounds = compounds.union(set(data[data[descriptor].isnull()].index))\n",
    "        \n",
    "    return list(compounds)\n",
    "\n",
    "l = resolve(mordred_descriptors, e, 30)\n",
    "print('There are', len(l), 'problematic compounds for Mordred descriptors:')\n",
    "print(l)\n",
    "\n",
    "# Debugging:\n",
    "# e[e['NaN Count'] == 4]\n",
    "# Look for common denominator of these low level errors:\n",
    "# bcf_mordred[bcf_mordred['Xp-0d'].isnull()]\n",
    "\n",
    "bcf_mordred_partial = bcf_mordred.drop(l, errors='ignore')\n",
    "bcf_mordred_partial.reset_index(drop=True, inplace=True)"
   ]
  },
  {
   "cell_type": "code",
   "execution_count": 65,
   "id": "6d1c2f1a",
   "metadata": {},
   "outputs": [
    {
     "name": "stdout",
     "output_type": "stream",
     "text": [
      "Originally only 765 usable descriptors.\n",
      "After resolution, there are now 928  Mordred descriptors\n"
     ]
    }
   ],
   "source": [
    "unfiltered = mordred_descriptors.dropna(axis=1)\n",
    "print('Originally only', len(unfiltered.columns), 'usable descriptors.')\n",
    "\n",
    "# Drop all remaining bad descriptors\n",
    "# How many descriptors do we have left?\n",
    "bcf_mordred_partial.drop(columns=['CAS', 'SMILES', 'Dataset', 'rd_mol', 'Chemical'], axis=1, inplace=True, errors='ignore')\n",
    "bcf_mordred_partial.dropna(how='any', axis='columns', inplace=True)\n",
    "print(\"After resolution, there are now\", len(bcf_mordred_partial.columns) - 6, \" Mordred descriptors\")\n",
    "\n",
    "# Alternatively, losing descriptors and keeping compounds\n",
    "bcf_mordred.drop(columns=['CAS', 'SMILES', 'Dataset', 'rd_mol', 'Chemical'], axis=1, inplace=True, errors='ignore')\n",
    "bcf_mordred.dropna(how='any', axis='columns', inplace=True) # BEWARE NOT TO DROP NA CAS"
   ]
  },
  {
   "cell_type": "code",
   "execution_count": 66,
   "id": "98eea180",
   "metadata": {},
   "outputs": [],
   "source": [
    "# bcf mordred cleaned dataset ready for prediction\n",
    "bcf_mordred_partial.to_csv('data/featureset/labeled/bcf_mordred_partial.csv')\n",
    "bcf_mordred.to_csv('data/featureset/labeled/bcf_mordred_full.csv')"
   ]
  },
  {
   "cell_type": "markdown",
   "id": "48db2a5e",
   "metadata": {},
   "source": [
    "# ECFP4 Fingerprints"
   ]
  },
  {
   "cell_type": "code",
   "execution_count": 43,
   "id": "34c1f06a",
   "metadata": {},
   "outputs": [],
   "source": [
    "# bcfgen ecfp4 1024, 2048\n",
    "# ecfp4_1024, 2048\n",
    "def create_morgan_space(r = 2, nbits = 128):\n",
    "    def model(mol):\n",
    "        return AllChem.GetMorganFingerprintAsBitVect(mol, radius = r, nBits = nbits)\n",
    "    return model\n",
    "\n",
    "ecfp4_1024 = pd.DataFrame(np.array(bcfcombined.rd_mol.apply(create_morgan_space(r = 2, nbits = 1024)).tolist()).astype(np.float32))\n",
    "ecfp4_2048 = pd.DataFrame(np.array(bcfcombined.rd_mol.apply(create_morgan_space(r = 2, nbits = 2048)).tolist()).astype(np.float32))\n",
    "ecfp4_4096 = pd.DataFrame(np.array(bcfcombined.rd_mol.apply(create_morgan_space(r = 2, nbits = 4096)).tolist()).astype(np.float32))\n",
    "\n",
    "# unlabeled\n",
    "unlabeled_ecfp4_1024 = pd.DataFrame(np.array(unlabeledpfas.rd_mol.apply(create_morgan_space(r = 2, nbits = 1024)).tolist()).astype(np.float32))\n",
    "unlabeled_ecfp4_2048 = pd.DataFrame(np.array(unlabeledpfas.rd_mol.apply(create_morgan_space(r = 2, nbits = 2048)).tolist()).astype(np.float32))\n",
    "unlabeled_ecfp4_4096 = pd.DataFrame(np.array(unlabeledpfas.rd_mol.apply(create_morgan_space(r = 2, nbits = 4096)).tolist()).astype(np.float32))"
   ]
  },
  {
   "cell_type": "code",
   "execution_count": 68,
   "id": "31d426d9",
   "metadata": {},
   "outputs": [],
   "source": [
    "bcf_ecfp4 = pd.concat([bcfcombined, ecfp4_1024], axis = 1)\n",
    "bcf_ecfp4.reset_index(drop=True, inplace=True)\n",
    "bcf_ecfp4.drop(columns=['CAS', 'SMILES', 'Dataset', 'rd_mol', 'Chemical'], axis=1, inplace=True, errors='ignore')\n",
    "bcf_ecfp4.to_csv('data/featureset/labeled/bcf_ecfp4_1024.csv')"
   ]
  },
  {
   "cell_type": "code",
   "execution_count": 69,
   "id": "32c9561d",
   "metadata": {},
   "outputs": [],
   "source": [
    "bcf_ecfp4 = pd.concat([bcfcombined, ecfp4_2048], axis = 1)\n",
    "bcf_ecfp4.reset_index(drop=True, inplace=True)\n",
    "bcf_ecfp4.drop(columns=['CAS', 'SMILES', 'Dataset', 'rd_mol', 'Chemical'], axis=1, inplace=True, errors='ignore')\n",
    "bcf_ecfp4.to_csv('data/featureset/labeled/bcf_ecfp4_2048.csv')"
   ]
  },
  {
   "cell_type": "code",
   "execution_count": 70,
   "id": "c26fcec2",
   "metadata": {},
   "outputs": [],
   "source": [
    "bcf_ecfp4 = pd.concat([bcfcombined, ecfp4_4096], axis = 1)\n",
    "bcf_ecfp4.reset_index(drop=True, inplace=True)\n",
    "bcf_ecfp4.drop(columns=['CAS', 'SMILES', 'Dataset', 'rd_mol', 'Chemical'], axis=1, inplace=True, errors='ignore')\n",
    "bcf_ecfp4.to_csv('data/featureset/labeled/bcf_ecfp4_4096.csv')"
   ]
  },
  {
   "cell_type": "code",
   "execution_count": 45,
   "id": "5636e118",
   "metadata": {},
   "outputs": [],
   "source": [
    "# unlabeled\n",
    "unlabeled_ecfp4_1024.to_csv('data/featureset/unlabeled/bcf_ecfp4_1024.csv')\n",
    "unlabeled_ecfp4_2048.to_csv('data/featureset/unlabeled/bcf_ecfp4_2048.csv')\n",
    "unlabeled_ecfp4_4096.to_csv('data/featureset/unlabeled/bcf_ecfp4_4096.csv')"
   ]
  },
  {
   "cell_type": "markdown",
   "id": "827c46d4",
   "metadata": {},
   "source": [
    "# Graph Representation? (TBD)"
   ]
  },
  {
   "cell_type": "code",
   "execution_count": null,
   "id": "713daa08",
   "metadata": {},
   "outputs": [],
   "source": []
  }
 ],
 "metadata": {
  "kernelspec": {
   "display_name": "Python 3 (ipykernel)",
   "language": "python",
   "name": "python3"
  },
  "language_info": {
   "codemirror_mode": {
    "name": "ipython",
    "version": 3
   },
   "file_extension": ".py",
   "mimetype": "text/x-python",
   "name": "python",
   "nbconvert_exporter": "python",
   "pygments_lexer": "ipython3",
   "version": "3.7.12"
  }
 },
 "nbformat": 4,
 "nbformat_minor": 5
}
